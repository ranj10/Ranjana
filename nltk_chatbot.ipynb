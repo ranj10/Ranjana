{
  "nbformat": 4,
  "nbformat_minor": 0,
  "metadata": {
    "colab": {
      "provenance": [],
      "authorship_tag": "ABX9TyMqSw5FT+nbVbFpKI7UvEeI",
      "include_colab_link": true
    },
    "kernelspec": {
      "name": "python3",
      "display_name": "Python 3"
    },
    "language_info": {
      "name": "python"
    }
  },
  "cells": [
    {
      "cell_type": "markdown",
      "metadata": {
        "id": "view-in-github",
        "colab_type": "text"
      },
      "source": [
        "<a href=\"https://colab.research.google.com/github/ranj10/Ranjana/blob/main/nltk_chatbot.ipynb\" target=\"_parent\"><img src=\"https://colab.research.google.com/assets/colab-badge.svg\" alt=\"Open In Colab\"/></a>"
      ]
    },
    {
      "cell_type": "code",
      "execution_count": 1,
      "metadata": {
        "id": "crIb18nnU1R0"
      },
      "outputs": [],
      "source": [
        "import nltk\n",
        "import numpy as np\n",
        "import random\n",
        "import string"
      ]
    },
    {
      "cell_type": "code",
      "source": [
        "f=open('/content/chatbot.txt','r',errors=\"ignore\")\n",
        "raw_doc=f.read()"
      ],
      "metadata": {
        "id": "W6n0Gpw_WoYo"
      },
      "execution_count": 2,
      "outputs": []
    }
  ]
}